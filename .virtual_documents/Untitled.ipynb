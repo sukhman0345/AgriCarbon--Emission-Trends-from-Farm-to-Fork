import pandas as pd


df= pd.read_csv("Agrofood_co2_emission.csv")


df


df.isnull().sum()


df.duplicated().sum()


df.info()


df.describe()



