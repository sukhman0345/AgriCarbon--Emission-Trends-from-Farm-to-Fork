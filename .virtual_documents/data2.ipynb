import pandas as pd
import numpy as np
import plotly.express as px
import plotly.graph_objects as go


df= pd.read_csv("Agrofood_co2_emission.csv")


df


df.head()


df.tail()


df.info()


df.describe()


df.shape


df.head(50)


df.tail(50)


missing_summary = df.isnull().sum()
print(missing_summary[missing_summary > 0])


df['Savanna fires'] = df['Savanna fires'].fillna(df['Savanna fires'].mean()).infer_objects(copy=False)


missing_summary = df.isnull().sum()
print(missing_summary[missing_summary > 0])


df['Forest fires'] = df['Forest fires'].fillna(df['Forest fires'].mean()).infer_objects(copy=False)


missing_summary = df.isnull().sum()
print(missing_summary[missing_summary > 0])


df['Crop Residues'] = df['Crop Residues'].fillna(df['Crop Residues'].median())



missing_summary = df.isnull().sum()
print(missing_summary[missing_summary > 0])


# Calculates the mean forestland for each Area
# Fills missing values with that region-specific mea
df['Forestland'] = df['Forestland'].fillna(df.groupby('Area')['Forestland'].transform('mean'))
df['Forestland'] = df['Forestland'].fillna(df['Forestland'].mean())  # fallback


missing_summary = df.isnull().sum()
print(missing_summary[missing_summary > 0])


df['Net Forest conversion'] = df['Net Forest conversion'].fillna(df.groupby('Area')['Net Forest conversion'].transform('mean'))
df['Net Forest conversion'] = df['Net Forest conversion'].fillna(df['Net Forest conversion'].mean())  # fallback


missing_summary = df.isnull().sum()
print(missing_summary[missing_summary > 0])


df['Food Household Consumption'] = df['Food Household Consumption'].fillna(df['Food Household Consumption'].mean())



missing_summary = df.isnull().sum()
print(missing_summary[missing_summary > 0])


df['IPPU'] = df['IPPU'].fillna(df['IPPU'].median())


missing_summary = df.isnull().sum()
print(missing_summary[missing_summary > 0])


df['Manure applied to Soils'] = df['Manure applied to Soils'].fillna(df['Manure applied to Soils'].mean())


missing_summary = df.isnull().sum()
print(missing_summary[missing_summary > 0])


df['Manure Management'] = df['Manure Management'].fillna(df['Manure Management'].mean())


missing_summary = df.isnull().sum()
print(missing_summary[missing_summary > 0])


df['On-farm energy use'] = df['On-farm energy use'].fillna(df['On-farm energy use'].median())


missing_summary = df.isnull().sum()
print(missing_summary[missing_summary > 0])


df['Fires in humid tropical forests'] = df['Fires in humid tropical forests'].fillna(df['Fires in humid tropical forests'].mean())



df.isnull().sum()








# 1. Choropleth: Total emissions by Area
fig = px.choropleth(
    df,
    locations="Area",                  # Country Area
    locationmode="country names",     # Use full country names
    color="total_emission",           # Color scale based on emissions
    hover_name="Area",                # Tooltip
    animation_frame="Year",           # Animation by year
    title="Area-wise Total Emissions"
)

# Set title position and figure size
fig.update_layout(
    title_x=0.5,
    width=800,
    height=600
)

fig.show()






fig = px.line(df, x="Year", y="Rice Cultivation", color="Area",
               title="Rice Cultivation Emissions over Time")
fig.update_layout(width=1200, height=500, title_x=0.2)

fig.show()






# Group and calculate average emissions by fire type
fire_df = df[["Area", "Forest fires", "Savanna fires", "Fires in humid tropical forests"]].groupby("Area").mean().reset_index()

# Calculate total fire emissions per area
fire_df["Total Emissions"] = fire_df[["Forest fires", "Savanna fires", "Fires in humid tropical forests"]].sum(axis=1)

# Sort and keep top 10 highest emitting areas
top_fire_df = fire_df.sort_values("Total Emissions", ascending=False).head(10)

# Melt for plotting
fire_melted = top_fire_df.drop(columns="Total Emissions").melt(id_vars="Area", var_name="Fire Type", value_name="Emissions")

# Create bar chart
fig = px.bar(fire_melted, x="Area", y="Emissions", color="Fire Type",
              title="Top 10 Areas by Fire-Based Emissions",
              labels={"Emissions": "Emissions (Kilotons)"})
fig.update_layout(xaxis_tickangle=-45, width=1100, height=600, title_x=0.5)
fig.show()






# Step 1: Compute average Crop Residue emissions per Area
top_crop_areas = df.groupby("Area")["Crop Residues"].mean().sort_values(ascending=False).head(10).index
top_crop_areas



# Step 2: Filter dataset for those top areas
filtered_df = df[df["Area"].isin(top_crop_areas)]

# Step 3: Create the cleaner box plot
fig = px.box(filtered_df, x="Area", y="Crop Residues",
              title="Top 10 Areas - Crop Residue Emissions Distribution",
              labels={"Crop Residues": "Emissions (Kilotons)"})
fig.update_layout(xaxis_tickangle=-45, width=1000, height=500, title_x=0.5)
fig.show()






df["Agri_total_Emission"]= df["Pesticides Manufacturing"] + df["Fertilizers Manufacturing"] + df["Food Transport"]
top20_df=df.sort_values("Agri_total_Emission", ascending=True).head(40).reset_index()
#print(top20_df[["Area", "Pesticides Manufacturing", "Fertilizers Manufacturing", "Food Transport"]])



fig = px.scatter(
    top20_df,
    x="Pesticides Manufacturing",
    y="Fertilizers Manufacturing",
    size="Food Transport",        # Bubble size by transport emissions
    color="Area",
    hover_name="Area",
    title="Top 20 Areas by Agricultural Emissions",
    labels={
        "Pesticides Manufacturing": "Pesticides CO₂ (kt)",
        "Fertilizers Manufacturing": "Fertilizers CO₂ (kt)",
        "Food Transport": "Transport CO₂ (kt)"
    }
)

fig.update_layout(width=1000, height=500, title_x=0.3)
fig.show()





year_df = df[df["Year"] == df["Year"].max()]
ind_emissions = year_df[["IPPU", "On-farm Electricity Use", "Food Processing"]].sum()
fig = px.pie(values=ind_emissions.values, names=ind_emissions.index,
              title=f"Industrial Emission Proportion in {year_df['Year'].max()}")
fig.update_layout(title_x=0.3, width= 1000, height=500)
fig.show()






columns_to_check = [
    "total_emission",
    "Rural population",
    "Urban population",
    "Total Population - Male",
    "Total Population - Female",
    "On-farm energy use"
]
corr_df = df[columns_to_check].corr()

fig = px.imshow(corr_df, text_auto=True, title="Correlation with Total Emission", width=800, height=700)
fig.show()









# Step 1: Calculate total population and filter top 1000
df["Total Population"] = df["Total Population - Male"] + df["Total Population - Female"]
top1000_df = df.sort_values("Total Population", ascending=False).head(500)

# Step 2: Melt to long format for Gender
population_melted = top1000_df[["Area", "Total Population - Male", "Total Population - Female"]].melt(
    id_vars="Area",
    var_name="Gender",
    value_name="Population"
)

# Step 3: Create sunburst chart
fig = px.sunburst(population_melted,
                  path=["Area", "Gender"],
                  values="Population",
                  title=" Top 500 Population Records by Area and Gender")

fig.update_layout(width=900, height=600, title_x=0.5)
fig.show()



# Select only numerical columns
num_cols = df.select_dtypes(include=['float64', 'int64']).columns

# Dictionary to hold outlier counts per column
outlier_summary = {}

# IQR method for each numerical column
for col in num_cols:
    Q1 = df[col].quantile(0.25)
    Q3 = df[col].quantile(0.75)
    IQR = Q3 - Q1
    lower_bound = Q1 - 1.5 * IQR
    upper_bound = Q3 + 1.5 * IQR
    
    # Identify outliers
    outliers = df[(df[col] < lower_bound) | (df[col] > upper_bound)]
    
    outlier_summary[col] = {
        "total_outliers": len(outliers),
        "percent_outliers": round(100 * len(outliers) / len(df[col].dropna()), 2)
    }

# Convert to DataFrame for better display
outlier_df = pd.DataFrame(outlier_summary).T.sort_values(by="total_outliers", ascending=False)
print(outlier_df)



import pandas as pd
import plotly.express as px



# Select numerical columns only
num_cols = df.select_dtypes(include=['float64', 'int64']).columns

# Melt the DataFrame for long-format boxplot
df_melted = df[num_cols].melt(var_name="Feature", value_name="Value")

# Plotly boxplot
fig = px.box(
    df_melted,
    x="Feature",
    y="Value",
    points="outliers",  # show only outliers
    title="Boxplots for Outlier Detection in All Numerical Columns",
    template="plotly_white"
)

# Customize layout
fig.update_layout(
    xaxis_title="Numerical Features",
    yaxis_title="Value",
    xaxis_tickangle=-45,
    height=800,
    width=1100,
    margin=dict(l=40, r=40, t=80, b=200),
)

fig.show()



# Select only numerical columns
num_cols = df.select_dtypes(include=['float64', 'int64']).columns

# Dictionary to hold outlier counts per column
outlier_summary = {}

# IQR method for each numerical column
for col in num_cols:
    Q1 = df[col].quantile(0.25)
    Q3 = df[col].quantile(0.75)
    IQR = Q3 - Q1
    lower_bound = Q1 - 1.5 * IQR
    upper_bound = Q3 + 1.5 * IQR


print(lower_bound)
print(upper_bound)
    
    


import pandas as pd

# Load dataset
# df = pd.read_csv("your_data.csv")  # Replace with your file path

# Select numerical columns
num_cols = df.select_dtypes(include=['float64', 'int64']).columns

# Dictionary to store IQR results
bounds = []

# Calculate IQR, lower, upper bounds for each column
for col in num_cols:
    Q1 = df[col].quantile(0.25)
    Q3 = df[col].quantile(0.75)
    IQR = Q3 - Q1
    lower_bound = Q1 - 1.5 * IQR
    upper_bound = Q3 + 1.5 * IQR

    outliers = df[(df[col] < lower_bound) | (df[col] > upper_bound)]

    bounds.append({
        "Column": col,
        "Q1": Q1,
        "Q3": Q3,
        "IQR": IQR,
        "Lower Bound": lower_bound,
        "Upper Bound": upper_bound,
        "Outlier Count": len(outliers),
        "Percent Outliers": round(100 * len(outliers) / df[col].dropna().shape[0], 2)
    })

# Create a summary DataFrame
outlier_bounds_df = pd.DataFrame(bounds)

# Sort by Outlier Count
outlier_bounds_df = outlier_bounds_df.sort_values(by="Outlier Count", ascending=False)

# Display the result
print(outlier_bounds_df)








